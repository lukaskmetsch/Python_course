{
 "cells": [
  {
   "cell_type": "markdown",
   "metadata": {},
   "source": [
    "# Rock, Paper, Scissors - Solution\n",
    "### By Jens Hahn"
   ]
  },
  {
   "cell_type": "code",
   "execution_count": null,
   "metadata": {},
   "outputs": [],
   "source": [
    "import numpy.random as random\n",
    "\n",
    "def scrls():\n",
    "    scissors = {'rock': False, 'paper': True, 'lizard': True, 'spock':False}\n",
    "    rock = {'scissors': True, 'paper': False, 'lizard': True, 'spock':False}\n",
    "    paper = {'scissors': False, 'rock': True, 'lizard': False, 'spock':True}\n",
    "    lizard = {'scissors': False, 'paper': True, 'rock': False, 'spock':True}\n",
    "    spock = {'rock': True, 'scissors': True, 'lizard': False, 'paper':False}\n",
    "    \n",
    "    erg = {'scissors': scissors, 'rock': rock, 'paper': paper, 'lizard': lizard, 'spock': spock}\n",
    "    \n",
    "    answer = None\n",
    "    while answer not in erg:\n",
    "        answer = input(\"rock, paper, scissors, lizard, or spock? \")\n",
    "\n",
    "    rand = random.randint(1, 5)\n",
    "    computer_choice = {1: 'rock', 2: 'paper', 3:'scissors', 4:'lizard', 5:'spock'}\n",
    "    comp_ans = computer_choice[rand]\n",
    "\n",
    "    if answer == comp_ans:\n",
    "        print('Computer has ' + comp_ans)\n",
    "        print('tied game')\n",
    "    else:\n",
    "        if erg[answer][comp_ans]:\n",
    "            print('Computer has ' + comp_ans)\n",
    "            print('you won')\n",
    "        else:\n",
    "            print('Computer has ' + comp_ans)\n",
    "            print('you loose')\n",
    "\n",
    "    new_game = input(\"another game? \")\n",
    "    if new_game in ['y', 'Y', 'yes']:\n",
    "        scrls()\n",
    "\n",
    "if __name__ == \"__main__\":\n",
    "    scrls()"
   ]
  }
 ],
 "metadata": {
  "kernelspec": {
   "display_name": "Python 3",
   "language": "python",
   "name": "python3"
  },
  "language_info": {
   "codemirror_mode": {
    "name": "ipython",
    "version": 3
   },
   "file_extension": ".py",
   "mimetype": "text/x-python",
   "name": "python",
   "nbconvert_exporter": "python",
   "pygments_lexer": "ipython3",
   "version": "3.8.2"
  }
 },
 "nbformat": 4,
 "nbformat_minor": 4
}
